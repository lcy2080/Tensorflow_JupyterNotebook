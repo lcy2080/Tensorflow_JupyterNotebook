{
  "nbformat": 4,
  "nbformat_minor": 0,
  "metadata": {
    "colab": {
      "name": "HelloTensorflow.ipynb",
      "version": "0.3.2",
      "provenance": [],
      "include_colab_link": true
    },
    "kernelspec": {
      "name": "python3",
      "display_name": "Python 3"
    }
  },
  "cells": [
    {
      "cell_type": "markdown",
      "metadata": {
        "id": "view-in-github",
        "colab_type": "text"
      },
      "source": [
        "[View in Colaboratory](https://colab.research.google.com/github/lcy2080/Tensorflow_JupyterNotebook/blob/master/Examples/CH00_HelloTensorflow.ipynb)"
      ]
    },
    {
      "metadata": {
        "id": "t9z_xFTw_Yt5",
        "colab_type": "code",
        "colab": {
          "base_uri": "https://localhost:8080/",
          "height": 70
        },
        "outputId": "7aee8efd-3ddd-4ea8-f593-8727aa07cf6b"
      },
      "cell_type": "code",
      "source": [
        "import tensorflow as tf\n",
        "\n",
        "#Hello Tensorflow 0\n",
        "hello = tf.constant('Hello, Tensorflow!')\n",
        "print(hello)\n",
        "\n",
        "with tf.Session() as sess:\n",
        "  print (hello)\n",
        "  print (sess.run(hello))"
      ],
      "execution_count": 1,
      "outputs": [
        {
          "output_type": "stream",
          "text": [
            "Tensor(\"Const:0\", shape=(), dtype=string)\n",
            "Tensor(\"Const:0\", shape=(), dtype=string)\n",
            "b'Hello, Tensorflow!'\n"
          ],
          "name": "stdout"
        }
      ]
    },
    {
      "metadata": {
        "id": "lwpTWe_pF33A",
        "colab_type": "text"
      },
      "cell_type": "markdown",
      "source": [
        "On Notebook, before you restart runtime what you have done before is left."
      ]
    },
    {
      "metadata": {
        "id": "ZU1xQV6RFU3M",
        "colab_type": "code",
        "colab": {
          "base_uri": "https://localhost:8080/",
          "height": 52
        },
        "outputId": "52e623af-7e12-4996-e964-a867337b3d06"
      },
      "cell_type": "code",
      "source": [
        "#Easy Math\n",
        "a = tf.constant(10)\n",
        "b = tf.constant(32)\n",
        "c = tf.add(a,b)\n",
        "\n",
        "with tf.Session() as sess:\n",
        "  print (c)\n",
        "  print (sess.run(c))"
      ],
      "execution_count": 3,
      "outputs": [
        {
          "output_type": "stream",
          "text": [
            "Tensor(\"Add_1:0\", shape=(), dtype=int32)\n",
            "42\n"
          ],
          "name": "stdout"
        }
      ]
    },
    {
      "metadata": {
        "id": "ncRJYaEAIju1",
        "colab_type": "text"
      },
      "cell_type": "markdown",
      "source": [
        "Example Hello Tensorflow 0 is same below."
      ]
    },
    {
      "metadata": {
        "id": "IUmgbGN0JHhb",
        "colab_type": "code",
        "colab": {
          "base_uri": "https://localhost:8080/",
          "height": 34
        },
        "outputId": "9dc7c89c-b513-47db-e6b1-f58b92039f9a"
      },
      "cell_type": "code",
      "source": [
        "#Hello Tensorflow 1\n",
        "tempSess = tf.Session()\n",
        "\n",
        "print (tempSess.run(hello))\n",
        "\n",
        "tempSess.close()"
      ],
      "execution_count": 4,
      "outputs": [
        {
          "output_type": "stream",
          "text": [
            "b'Hello, Tensorflow!'\n"
          ],
          "name": "stdout"
        }
      ]
    }
  ]
}