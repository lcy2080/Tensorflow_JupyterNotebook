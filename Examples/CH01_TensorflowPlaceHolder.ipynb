{
  "nbformat": 4,
  "nbformat_minor": 0,
  "metadata": {
    "colab": {
      "name": "CH01_TensorflowPlaceHolder.ipynb",
      "version": "0.3.2",
      "provenance": [],
      "include_colab_link": true
    },
    "kernelspec": {
      "name": "python3",
      "display_name": "Python 3"
    }
  },
  "cells": [
    {
      "cell_type": "markdown",
      "metadata": {
        "id": "view-in-github",
        "colab_type": "text"
      },
      "source": [
        "[View in Colaboratory](https://colab.research.google.com/github/lcy2080/Tensorflow_JupyterNotebook/blob/master/Examples/CH01_TensorflowPlaceHolder.ipynb)"
      ]
    },
    {
      "metadata": {
        "id": "z7v8KfRDdTka",
        "colab_type": "text"
      },
      "cell_type": "markdown",
      "source": [
        "#Tensorflow PlaceHolder\n"
      ]
    },
    {
      "metadata": {
        "id": "GxqFwMp0dFVC",
        "colab_type": "code",
        "colab": {
          "base_uri": "https://localhost:8080/",
          "height": 34
        },
        "outputId": "a04213aa-d26d-4dd3-e8a3-158fb7c697e1"
      },
      "cell_type": "code",
      "source": [
        "import tensorflow as tf\n",
        "\n",
        "#Basic\n",
        "w = tf.constant(2, tf.float16)\n",
        "b = tf.constant(1., tf.float16)\n",
        "\n",
        "x = tf.placeholder(tf.float16)\n",
        "\n",
        "expr = tf.add(tf.multiply(w,x),b)\n",
        "\n",
        "with tf.Session() as sess:\n",
        "  print(sess.run(expr, feed_dict={x : 3.}))"
      ],
      "execution_count": 10,
      "outputs": [
        {
          "output_type": "stream",
          "text": [
            "7.0\n"
          ],
          "name": "stdout"
        }
      ]
    },
    {
      "metadata": {
        "id": "sbGIAGLjjZ3c",
        "colab_type": "code",
        "colab": {
          "base_uri": "https://localhost:8080/",
          "height": 34
        },
        "outputId": "e1ba27c9-0330-4484-8b26-b06ac8365a77"
      },
      "cell_type": "code",
      "source": [
        "#Matrix\n",
        "W = tf.constant([[1., 2., 3.], [4., 5., 6.]], dtype = tf.float16, shape = [2, 3])\n",
        "B = tf.constant([1., 2., 3.], dtype = tf.float16, shape = [1, 3])\n",
        "\n",
        "X = tf.placeholder(dtype = tf.float16, shape = [1, 2])\n",
        "\n",
        "expr = tf.add(tf.matmul(X, W), B)\n",
        "\n",
        "with tf.Session() as sess:\n",
        "  print(sess.run(expr, feed_dict={X : [[1., 2.]]}))"
      ],
      "execution_count": 18,
      "outputs": [
        {
          "output_type": "stream",
          "text": [
            "[[10. 14. 18.]]\n"
          ],
          "name": "stdout"
        }
      ]
    }
  ]
}