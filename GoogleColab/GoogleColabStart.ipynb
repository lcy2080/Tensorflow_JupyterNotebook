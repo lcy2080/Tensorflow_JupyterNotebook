{
  "nbformat": 4,
  "nbformat_minor": 0,
  "metadata": {
    "colab": {
      "name": "GoogleColabStart.ipynb",
      "version": "0.3.2",
      "provenance": [],
      "collapsed_sections": [],
      "toc_visible": true,
      "include_colab_link": true
    },
    "kernelspec": {
      "name": "python3",
      "display_name": "Python 3"
    }
  },
  "cells": [
    {
      "cell_type": "markdown",
      "metadata": {
        "id": "view-in-github",
        "colab_type": "text"
      },
      "source": [
        "[View in Colaboratory](https://colab.research.google.com/github/lcy2080/Tensorflow_JupyterNotebook/blob/master/GoogleColab/GoogleColabStart.ipynb)"
      ]
    },
    {
      "metadata": {
        "id": "VXiwl6KzzddE",
        "colab_type": "text"
      },
      "cell_type": "markdown",
      "source": [
        "#Google Colab Start\n",
        "\n",
        "[Google Colaborator](https://colab.research.google.com/)<br>\n",
        "[Google Colab Local Runtime Reference](https://research.google.com/colaboratory/local-runtimes.html)\n"
      ]
    },
    {
      "metadata": {
        "id": "NeF6FtkyqsTF",
        "colab_type": "code",
        "colab": {
          "base_uri": "https://localhost:8080/",
          "height": 34
        },
        "outputId": "080535e8-596a-4884-c1cf-e954b836a54a"
      },
      "cell_type": "code",
      "source": [
        "import tensorflow as tf\n",
        "\n",
        "hello = tf.constant('Hello, TensorFlow!')\n",
        "\n",
        "sess = tf.Session()\n",
        "\n",
        "print(sess.run(hello))"
      ],
      "execution_count": 0,
      "outputs": [
        {
          "output_type": "stream",
          "text": [
            "b'Hello, TensorFlow!'\n"
          ],
          "name": "stdout"
        }
      ]
    }
  ]
}